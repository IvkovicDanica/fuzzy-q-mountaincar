{
 "cells": [
  {
   "cell_type": "code",
   "execution_count": null,
   "id": "2513d1f8",
   "metadata": {},
   "outputs": [],
   "source": [
    "import gymnasium as gym\n",
    "import random\n",
    "import numpy as np\n",
    "from dataclasses import dataclass\n",
    "from skfuzzy.membership import trapmf\n",
    "from typing import List\n",
    "\n",
    "\n",
    "np.random.seed(42)\n",
    "random.seed(42)"
   ]
  },
  {
   "cell_type": "code",
   "execution_count": null,
   "id": "78192e46",
   "metadata": {},
   "outputs": [],
   "source": [
    "env = gym.make(\"MountainCar-v0\", render_mode=\"human\", goal_velocity=0.1)\n",
    "\n",
    "observation, info = env.reset(seed=42)\n",
    "for _ in range(1000):\n",
    "    action = env.action_space.sample()\n",
    "    observation, reward, terminated, truncated, info = env.step(action)\n",
    "    \n",
    "    if terminated or truncated:\n",
    "        observation, info = env.reset()\n",
    "env.close()"
   ]
  },
  {
   "cell_type": "code",
   "execution_count": null,
   "id": "b03d3d32",
   "metadata": {},
   "outputs": [],
   "source": [
    "@dataclass\n",
    "class Trapezium:\n",
    "    left: float\n",
    "    left_top: float\n",
    "    right_top: float\n",
    "    right: float\n",
    "\n",
    "    def membership_value(self, input_value: float) -> float:\n",
    "        x = np.array([input_value])\n",
    "        params = [self.left, self.left_top, self.right_top, self.right]\n",
    "        return float(trapmf(x, params)[0])\n",
    "    \n",
    "    \n",
    "class InputStateVariable:\n",
    "    def __init__(self, *fuzzy_sets: Trapezium):\n",
    "        self.fuzzy_set_list = fuzzy_sets\n",
    "\n",
    "    def get_fuzzy_sets(self):\n",
    "        return self.fuzzy_set_list\n",
    "    \n",
    "    def get_memberships(self, value: float) -> List[float]:\n",
    "        return [fs.membership_value(value) for fs in self.fuzzy_set_list]\n",
    "    \n",
    "    \n",
    "class Build:\n",
    "    def __init__(self, *input_vars: InputStateVariable):\n",
    "        self.input_vars = input_vars\n",
    "\n",
    "    def get_input(self):\n",
    "        return self.input_vars\n",
    "\n",
    "    def get_number_of_fuzzy_sets(self, input_variable: InputStateVariable) -> int:\n",
    "        return len(input_variable.get_fuzzy_sets())\n",
    "\n",
    "    def get_number_of_rules(self) -> int:\n",
    "        num_rules = 1\n",
    "        for var in self.input_vars:\n",
    "            num_rules *= self.get_number_of_fuzzy_sets(var)\n",
    "        return num_rules"
   ]
  },
  {
   "cell_type": "code",
   "execution_count": null,
   "id": "236a2d4a",
   "metadata": {},
   "outputs": [],
   "source": [
    "class FQLModel:\n",
    "    def __init__(self, gamma: float, alpha: float, epsilon: float, action_set_length: int, fis: Build):\n",
    "        self.gamma = gamma              # Discount factor\n",
    "        self.alpha = alpha              # Learning rate\n",
    "        self.epsilon = epsilon          # Exploration rate\n",
    "        self.action_set_length = action_set_length\n",
    "        self.fis = fis                  # Fuzzy inference system\n",
    "\n",
    "        self.q_table = np.zeros((self.fis.get_number_of_rules(), action_set_length))\n",
    "\n",
    "        # Internal state\n",
    "        self.R: List[float] = []        # Degree of truth values for current state\n",
    "        self.R_: List[float] = []       # Degree of truth for previous state\n",
    "        self.M: List[int] = []          # Selected action index per rule\n",
    "        self.V: List[float] = []        # State value history\n",
    "        self.Q: List[float] = []        # Q-value history\n",
    "        self.Error: float = 0.0         # TD error"
   ]
  },
  {
   "cell_type": "code",
   "execution_count": null,
   "id": "0245c63c",
   "metadata": {},
   "outputs": [],
   "source": [
    "# Example fuzzy sets for Mountain Car environment\n",
    "position_sets = [\n",
    "    Trapezium(-1.5, -1.2, -0.9, -0.3),  \n",
    "    Trapezium(-0.9, -0.3, 0.3, 0.6),     \n",
    "    Trapezium(-0.3, 0.3, 0.6, 0.9)       \n",
    "]\n",
    "velocity_sets = [\n",
    "    Trapezium(-0.1, -0.07, -0.035, 0),  \n",
    "    Trapezium(-0.035, 0, 0, 0.035),      \n",
    "    Trapezium(0, 0.035, 0.07, 0.1)       \n",
    "]"
   ]
  },
  {
   "cell_type": "code",
   "execution_count": 15,
   "id": "01b80180",
   "metadata": {},
   "outputs": [
    {
     "data": {
      "text/plain": [
       "<__main__.InputStateVariable at 0x138bf743730>"
      ]
     },
     "execution_count": 15,
     "metadata": {},
     "output_type": "execute_result"
    }
   ],
   "source": [
    "position_var = InputStateVariable(*position_sets)\n",
    "position_var"
   ]
  }
 ],
 "metadata": {
  "kernelspec": {
   "display_name": "Python 3",
   "language": "python",
   "name": "python3"
  },
  "language_info": {
   "codemirror_mode": {
    "name": "ipython",
    "version": 3
   },
   "file_extension": ".py",
   "mimetype": "text/x-python",
   "name": "python",
   "nbconvert_exporter": "python",
   "pygments_lexer": "ipython3",
   "version": "3.10.0"
  }
 },
 "nbformat": 4,
 "nbformat_minor": 5
}
